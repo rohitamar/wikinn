{
 "cells": [
  {
   "cell_type": "code",
   "execution_count": 3,
   "id": "307d4394",
   "metadata": {},
   "outputs": [],
   "source": [
    "import json \n",
    "\n",
    "with open(\"../save/dataset.json\", encoding=\"utf-8\") as f:\n",
    "    data = json.load(f)"
   ]
  },
  {
   "cell_type": "code",
   "execution_count": 4,
   "id": "ed65d04d",
   "metadata": {},
   "outputs": [],
   "source": [
    "import re\n",
    "import unicodedata \n",
    "\n",
    "def preprocess(s: str):\n",
    "    # don't know what this does ngl\n",
    "    s = unicodedata.normalize(\"NFC\", s).lower()\n",
    "    # remove hyphens\n",
    "    s = re.sub(r\"[-‐-‒–—]+\", \" \", s)\n",
    "    # accent folding\n",
    "    s = unicodedata.normalize(\"NFKD\", s).encode(\"ascii\", \"ignore\").decode(\"ascii\")\n",
    "    # whitespace for single space \n",
    "    s = re.sub(r\"\\s+\", \" \", s).strip()\n",
    "    return s"
   ]
  },
  {
   "cell_type": "code",
   "execution_count": 6,
   "id": "d15d4b3b",
   "metadata": {},
   "outputs": [],
   "source": [
    "docs = []\n",
    "for d in data:\n",
    "    doc = preprocess(d['title']) + \" \" + preprocess(d['text'])\n",
    "    docs.append(doc)"
   ]
  },
  {
   "cell_type": "code",
   "execution_count": 7,
   "id": "7080d4f4",
   "metadata": {},
   "outputs": [],
   "source": [
    "import numpy as np \n",
    "from sklearn.feature_extraction.text import TfidfVectorizer \n",
    "\n",
    "vec = TfidfVectorizer(\n",
    "    lowercase=True,\n",
    "    strip_accents='unicode',\n",
    "    token_pattern=r\"(?u)\\b[^\\W\\d_]+(?:'[^\\W\\d_]+)?\\b\",\n",
    "    ngram_range=(1,2),\n",
    "    min_df=2,\n",
    "    max_df=0.9,\n",
    "    norm='l2',\n",
    "    dtype=np.float32\n",
    ")\n",
    "\n",
    "X = vec.fit_transform(docs)"
   ]
  },
  {
   "cell_type": "code",
   "execution_count": null,
   "id": "0b280cab",
   "metadata": {},
   "outputs": [],
   "source": [
    "from sklearn.preprocessing import normalize\n",
    "\n",
    "def search_tfidf(doc_ind: int, k: int = 20):\n",
    "    q = X[doc_ind] \n",
    "    X_n = normalize(X, norm=\"l2\", axis=1, copy=False)\n",
    "    q_n = normalize(q, norm=\"l2\", axis=1, copy=False)\n",
    "    scores = (X_n @ q_n.T).toarray().ravel()     \n",
    "\n",
    "    idx = np.argpartition(scores, -k)[-k:]\n",
    "    order = idx[np.argsort(scores[idx])[::-1]]\n",
    "    \n",
    "    print(f\"Query: {data[doc_ind]['title']}\\n\")\n",
    "    for j in order[1:]:\n",
    "        print(f\"{data[j]['title']} {scores[j]}\")\n",
    "    return [(scores[i], data[i]['title']) for i in order]"
   ]
  },
  {
   "cell_type": "code",
   "execution_count": 9,
   "id": "0c13caf1",
   "metadata": {},
   "outputs": [
    {
     "name": "stdout",
     "output_type": "stream",
     "text": [
      "Query: Mary Caffrey Low\n",
      "\n",
      "Bella Nixon 0.21529759466648102\n",
      "Kappa Sigma 0.20706669986248016\n",
      "Norman L. Bassett 0.19645266234874725\n",
      "Women's rights 0.18810726702213287\n",
      "Nellie Quander 0.1855752021074295\n",
      "College of William & Mary fraternity and sorority system 0.16852104663848877\n",
      "Pauli Murray 0.15569064021110535\n",
      "Women in Italy 0.15063662827014923\n",
      "Ann Bannon 0.1486842781305313\n"
     ]
    }
   ],
   "source": [
    "_ = search_tfidf(8, 10)"
   ]
  },
  {
   "cell_type": "code",
   "execution_count": 11,
   "id": "982594ad",
   "metadata": {},
   "outputs": [],
   "source": [
    "from scipy import sparse\n",
    "import joblib\n",
    "\n",
    "joblib.dump(vec, \"../save/tfidf/vectorizer.joblib\")\n",
    "sparse.save_npz(\"../save/tfidf/X.npz\", X, compressed=True)"
   ]
  },
  {
   "cell_type": "code",
   "execution_count": null,
   "id": "b3a4d0df",
   "metadata": {},
   "outputs": [],
   "source": []
  }
 ],
 "metadata": {
  "kernelspec": {
   "display_name": "Python 3",
   "language": "python",
   "name": "python3"
  },
  "language_info": {
   "codemirror_mode": {
    "name": "ipython",
    "version": 3
   },
   "file_extension": ".py",
   "mimetype": "text/x-python",
   "name": "python",
   "nbconvert_exporter": "python",
   "pygments_lexer": "ipython3",
   "version": "3.10.0"
  }
 },
 "nbformat": 4,
 "nbformat_minor": 5
}
