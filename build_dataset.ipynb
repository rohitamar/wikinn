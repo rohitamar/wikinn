{
 "cells": [
  {
   "cell_type": "code",
   "execution_count": 1,
   "id": "4c39e6da",
   "metadata": {},
   "outputs": [],
   "source": [
    "from datasets import load_dataset\n",
    "from random import randrange\n",
    "from typing import List, Dict\n",
    "\n",
    "def sample(stream, k) -> List[Dict]:\n",
    "    ret: List[Dict] = []\n",
    "    for i, item in enumerate(stream):\n",
    "        if i < k:\n",
    "            ret.append(item)\n",
    "        else:\n",
    "            if (r := randrange(i + 1)) < k:\n",
    "                ret[r] = item \n",
    "    return ret "
   ]
  },
  {
   "cell_type": "code",
   "execution_count": null,
   "id": "49a817d5",
   "metadata": {},
   "outputs": [],
   "source": [
    "full = load_dataset(\n",
    "    \"wikipedia\", \n",
    "    \"20220301.en\", \n",
    "    split=\"train\",\n",
    "    trust_remote_code=True,\n",
    "    streaming=True\n",
    ")\n",
    "\n",
    "data = sample(full, 100_000)"
   ]
  },
  {
   "cell_type": "code",
   "execution_count": 10,
   "id": "358450d0",
   "metadata": {},
   "outputs": [],
   "source": [
    "import json\n",
    "\n",
    "with open(\"data.json\", \"w\", encoding=\"utf-8\") as f:\n",
    "    json.dump(\n",
    "        data,                \n",
    "        f,\n",
    "        ensure_ascii=False,   \n",
    "        separators=(\",\", \":\") \n",
    "    )"
   ]
  }
 ],
 "metadata": {
  "kernelspec": {
   "display_name": "Python 3",
   "language": "python",
   "name": "python3"
  },
  "language_info": {
   "codemirror_mode": {
    "name": "ipython",
    "version": 3
   },
   "file_extension": ".py",
   "mimetype": "text/x-python",
   "name": "python",
   "nbconvert_exporter": "python",
   "pygments_lexer": "ipython3",
   "version": "3.10.0"
  }
 },
 "nbformat": 4,
 "nbformat_minor": 5
}
